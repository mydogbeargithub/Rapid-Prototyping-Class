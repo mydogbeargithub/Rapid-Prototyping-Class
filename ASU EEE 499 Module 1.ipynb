{
 "cells": [
  {
   "cell_type": "code",
   "execution_count": null,
   "metadata": {},
   "outputs": [],
   "source": [
    "## Module 1\n",
    "\n",
    "my_list=[]\n",
    "print(my_list)\n",
    "\n",
    "\n",
    "\n",
    "my_list = [1, 4.5, \"book\", 2-1j]\n",
    "print(my_list)\n",
    "\n",
    "for index in range(len(my_list)):\n",
    "    print (\"Entry\", my_list, \"is\",  my_list[index])\n",
    "    \n",
    "my_list.append(\"new thing\")\n",
    "print(my_list)\n",
    "next_list=[0,8,11.2]\n",
    "my_list.extend(next_list)\n",
    "\n",
    "print(my_list)\n",
    "\n",
    "my_list.append(next_list) ##not good its just another list in another list\n",
    "print(my_list)"
   ]
  },
  {
   "cell_type": "code",
   "execution_count": null,
   "metadata": {},
   "outputs": [],
   "source": []
  },
  {
   "cell_type": "code",
   "execution_count": null,
   "metadata": {},
   "outputs": [],
   "source": [
    "alist=[1,2,3,4,5,6,7]\n",
    "print(alist)\n",
    "middle_few = alist[3:5]\n",
    "print(middle_few)\n",
    "first_few = alist[:2]\n",
    "print(first_few)\n",
    "last_few = alist[5:]\n",
    "print(last_few)"
   ]
  },
  {
   "cell_type": "code",
   "execution_count": null,
   "metadata": {},
   "outputs": [],
   "source": [
    "list1=[1,2,3]\n",
    "list2=[4,5,6]\n",
    "list3=list1+list2\n",
    "print(list3)\n",
    "\n",
    "list1+=list2\n",
    "print(list1)\n",
    "\n",
    "list2.insert(1,8)\n",
    "print(list2)\n",
    "\n",
    "print(my_list)\n",
    "last=my_list.pop()\n",
    "print(\"this is the last thing:\", last)\n",
    "third=my_list.pop(3)\n",
    "print(third)\n",
    "print(my_list)\n",
    "\n",
    "#deletes 4.5, 'book'\n",
    "del(my_list[1:3])\n",
    "print(my_list)\n",
    "##get rid of new thing\n",
    "my_list.remove('new thing')\n",
    "print(my_list)"
   ]
  },
  {
   "cell_type": "code",
   "execution_count": null,
   "metadata": {},
   "outputs": [],
   "source": [
    "print(\"mylist[-1] is:\", my_list[-1])\n",
    "print(\"mylist[-2] is:\", my_list[-2])"
   ]
  },
  {
   "cell_type": "code",
   "execution_count": null,
   "metadata": {},
   "outputs": [],
   "source": [
    "my_list = []\n",
    "for index in range(10):\n",
    "    my_list.append(index)\n",
    "    \n",
    "print(my_list)\n",
    "\n",
    "x=0\n",
    "y=1\n",
    "z=2\n",
    "num_list = [x,y,z]\n",
    "print(x,y,z,num_list)\n",
    "x=4"
   ]
  },
  {
   "cell_type": "code",
   "execution_count": null,
   "metadata": {},
   "outputs": [],
   "source": [
    "##this will continuously change the \n",
    "new_list=num_list\n",
    "print(new_list)\n",
    "new_list[1]=8\n",
    "print(new_list)\n",
    "print(num_list)\n",
    "\n",
    "cp_list=num_list.copy() ##assign another list equal to another list, you'll copy correctly'\n",
    "cp_list[1]=37\n",
    "print(cp_list)\n",
    "print(num_list)"
   ]
  },
  {
   "cell_type": "code",
   "execution_count": null,
   "metadata": {},
   "outputs": [],
   "source": [
    "##mapping onto a list\n",
    "float_list=list(map(float,num_list))\n",
    "print(float_list)\n",
    "\n",
    "\n",
    "#pother functions on lists\n",
    "print(num_list)\n",
    "easy_sum=sum(num_list)\n",
    "easy_len=len(num_list)\n",
    "easy_min=min(new_list)\n",
    "easy_max=max(new_list)\n",
    "\n",
    "print(\"sum is\", easy_sum)\n",
    "print(\"len is\", easy_len)\n",
    "print(\"min is\", easy_min)\n",
    "print(\"min is\", easy_max)"
   ]
  },
  {
   "cell_type": "code",
   "execution_count": null,
   "metadata": {},
   "outputs": [],
   "source": [
    "mylist=[3,\"apple\", 2-1j, 5.76]\n",
    "for entry in mylist:\n",
    "    print(entry)\n",
    "    \n",
    "print(\"original list:\", new_list)\n",
    "print(\"double in size:\", 2*new_list)\n",
    "newer_list = 4*new_list\n",
    "print(\"original list:\",new_list)"
   ]
  },
  {
   "cell_type": "code",
   "execution_count": null,
   "metadata": {},
   "outputs": [],
   "source": [
    "#alternate list copy\n",
    "\n",
    "alist=[1,2,3,4,5,6,7]\n",
    "new_list=alist[:]\n",
    "item = new_list.pop()\n",
    "print(item)\n",
    "print(alist)\n",
    "print(new_list)\n",
    "\n",
    "my_list = [1,2,3]\n",
    "print(my_list)\n",
    "my_list.clear()\n",
    "print(my_list)\n",
    "\n",
    "\n",
    "my_list1=[1,2,3]\n",
    "my_list2=[4,5,6]\n",
    "list3=[my_list1, 99, my_list2]\n",
    "list4=[*my_list1, 99, *my_list2] ##put asterisk to get it out of the list\n",
    "print(\"sublists:\", list3)\n",
    "print(\"all unpacked:\", list4)\n",
    "\n",
    "alph=['dog', 'Cat', 'bee']\n",
    "alph.sort() ##sorts by upper case\n",
    "print(alph)\n",
    "\n",
    "alph.sort(reverse=True) ##reverse the order\n",
    "print(alph)\n",
    "\n",
    "alph.sort(key=str.lower) #modifies the case for sort, but leaves values unchanged - do sort like everything \n",
    "#lower case\n",
    "print(alph)"
   ]
  },
  {
   "cell_type": "markdown",
   "metadata": {},
   "source": [
    "## What are tuples?\n",
    "<br> Tuples are like lists but are immutable. \n",
    "<br> Tuples are denoted by parentheses:()\n",
    "<br> Tuple entries are separated by commas: , \n",
    "<br> Tuples are required or returned by some functions. \n"
   ]
  },
  {
   "cell_type": "code",
   "execution_count": null,
   "metadata": {},
   "outputs": [],
   "source": [
    "my_tup=(1,2)\n",
    "print(my_tup[0])\n",
    "print(my_tup[-1])\n",
    "print()\n",
    "\n",
    "for item in my_tup: \n",
    "    print(item)\n",
    "\n",
    "print()\n",
    "#my_tup(0)=4 #can't change - generates an error\n"
   ]
  },
  {
   "cell_type": "code",
   "execution_count": null,
   "metadata": {},
   "outputs": [],
   "source": [
    "print('enumerating')\n",
    "alphs=['a', 'b', 'c']\n",
    "for index, value in enumerate(alphs): \n",
    "    print(index,value)\n",
    "    \n",
    "from numpy import arange\n",
    "from numpy import linspace \n",
    "from numpy import full\n",
    "\n",
    "for index in range(10):\n",
    "    if(index>4): \n",
    "        print(index, \"is bigger than 4\")\n",
    "    else: print(index,\"is less than or equal to 4\")\n",
    "else: \n",
    "    print(\"printing this!\")\n",
    "    \n"
   ]
  },
  {
   "cell_type": "code",
   "execution_count": null,
   "metadata": {},
   "outputs": [],
   "source": [
    "for index in range(10):\n",
    "    if(index>4): \n",
    "        print(index, \"is bigger than 4\")\n",
    "        break                         #stop inner loop\n",
    "    else: print(index,\"is less than or equal to 4\")\n",
    "else: \n",
    "    print(\"printing this!\")\n",
    "    \n",
    "for index in arange(0,10):\n",
    "    print(index)\n",
    "    \n",
    "for index in linspace(0,10,11):\n",
    "    print(index)"
   ]
  },
  {
   "cell_type": "code",
   "execution_count": null,
   "metadata": {},
   "outputs": [],
   "source": [
    "my_linsapce_noend = linspace(0,1,10,False)  # now do not get the ends!\n",
    "print(\"linspace without end is:\",my_linsapce_noend)\n",
    "print(\"\\n\")\n",
    "\n",
    "my_linspace_float = linspace(0,10,11)       \n",
    "print(\"linspace floats:\",my_linspace_float)\n",
    "print(\"\\n\")\n",
    "\n",
    "my_linspace_int, step = linspace(0,10,10,retstep=True, dtype=int)\n",
    "print(\"linspace step was\", step)\n",
    "print(my_linspace_int)\n",
    "print(\"\\n\")"
   ]
  },
  {
   "cell_type": "code",
   "execution_count": null,
   "metadata": {},
   "outputs": [],
   "source": [
    "from numpy import full\n",
    "##create arrays\n",
    "a=full(3,1)\n",
    "b=full(3,5)\n",
    "print(a, b, \"\\n\\n\")\n",
    "\n",
    "new_arr=linspace(a,b,3,axis=0) ##horizontal stepping\n",
    "print(new_arr,\"\\n\\n\")\n",
    "\n",
    "new_arr=linspace(a,b,3,axis=1) ##horizontal stepping\n",
    "print(new_arr, \"\\n\\n\")"
   ]
  },
  {
   "cell_type": "code",
   "execution_count": null,
   "metadata": {},
   "outputs": [],
   "source": [
    "from numpy import arange      # needed to get an array\n",
    "from numpy import linspace    # needed to show linspace\n",
    "\n",
    "for index in range(10): \n",
    "    if(index>4):\n",
    "        print(index, \"is bigger than 4\")\n",
    "    else: \n",
    "        print(index, \"is less than or equal to 4\")\n",
    "else: \n",
    "    print(\"printing this!\")\n",
    "    \n",
    "print(\"done\")\n",
    "input()\n",
    "\n",
    "for index in range(10): \n",
    "    if(index>4): \n",
    "        print(index, \"is bigger than 4\")\n",
    "        break\n",
    "    else:\n",
    "        print(index, \"is less than or equal to 4\")\n",
    "else:\n",
    "    print(\"not printing this!\")\n",
    "    \n",
    "print (\"done\")\n",
    "input()\n",
    "for index in arange(0,10): #these are ints; still no last value\n",
    "    print(index)\n",
    "    \n",
    "input()\n",
    "for index in linspace(0,10,11): \n",
    "    print(index)"
   ]
  },
  {
   "cell_type": "markdown",
   "metadata": {},
   "source": [
    "## Loops"
   ]
  },
  {
   "cell_type": "code",
   "execution_count": null,
   "metadata": {},
   "outputs": [],
   "source": [
    "flag = False\n",
    "while (not flag):\n",
    "    a_val = int(input(\"Enter 0 to leave:\"))\n",
    "    if (a_val == 0): \n",
    "        flag=True\n",
    "    else: \n",
    "        print(\"No luck yet...\")\n",
    "        \n"
   ]
  },
  {
   "cell_type": "code",
   "execution_count": null,
   "metadata": {},
   "outputs": [],
   "source": [
    "flag = True\n",
    "while (flag): \n",
    "    a_val = int(input(\"Enter 0 to leave:\"))\n",
    "    if (a_val==0): \n",
    "        flag=False\n",
    "    else: \n",
    "        print(\"No luck yet\")\n",
    "else: print(\"Finally got a 0!\")"
   ]
  },
  {
   "cell_type": "code",
   "execution_count": null,
   "metadata": {},
   "outputs": [],
   "source": [
    "##break immediately terminates the current (inner) loop m1_while.py\n",
    "\n",
    "flag=False\n",
    "while(not flag): \n",
    "    a_val=int(input(\"Enter 0 to leave:\"))\n",
    "    if(a_val == 0): \n",
    "        break\n",
    "    else: print(\"No luck yet...\")\n",
    "else:                               #here when loop terminates normally\n",
    "    print(\"don't print this!\")\n",
    "    \n",
    "print(\"Print this instead\")\n"
   ]
  },
  {
   "cell_type": "code",
   "execution_count": null,
   "metadata": {},
   "outputs": [],
   "source": [
    "x=True\n",
    "y=True\n",
    "while x: \n",
    "    while y: \n",
    "        print(\"in inner loop\")\n",
    "        break\n",
    "    print(\"in outer loop\")\n",
    "    x = False\n",
    "else: \n",
    "    print(\"x =\", x, \"y=\", y)"
   ]
  },
  {
   "cell_type": "markdown",
   "metadata": {},
   "source": [
    "## Functions\n",
    "Functions allow abstraction, reuse, take arguments aka parameters, return values, are created with keyword: def\n",
    "def func_name(parameters...): \n",
    "statements are indented\n",
    "\n"
   ]
  },
  {
   "cell_type": "code",
   "execution_count": null,
   "metadata": {},
   "outputs": [],
   "source": [
    "# script to illustrate functions# how to create a function\n",
    "# always provide a comment - high-level description of what this function does!\n",
    "################################################################################\n",
    "# Function crazy_mult multiplies two numbers                                   \n",
    "## inputs:                                                                      \n",
    "##   left_num:  a first number to multiply                                      \n",
    "##   right_num: a second number to multiply                                     \n",
    "## outputs:                                                                     \n",
    "##   answer:    the product of the two numbers                                  \n",
    "##   left_num:  the original first number                                       \n",
    "##   right_num: the original second number                                      \n",
    "#################################################################################\n",
    "def crazy_mult(left_num, right_num): \n",
    "    answer=left_num*right_num\n",
    "    return answer, left_num, right_num\n",
    "\n",
    "ans, was_left, was_right = crazy_mult(3,4)\n",
    "print(\"multiplied\", was_left, \"by\", was_right, \"and got\", ans)\n",
    "#Notice how the function takes care of the data types\n",
    "ans, was_left, was_right = crazy_mult(3.5,2)\n",
    "print(\"multiplied\", was_left, \"by\", was_right, \"and got\", ans)\n",
    "ans, was_left, was_right = crazy_mult(1-1j, 1+1j)\n",
    "print(\"multiplied\", was_left, \"by\", was_right, \"and got\", ans)\n",
    "\n"
   ]
  },
  {
   "cell_type": "code",
   "execution_count": null,
   "metadata": {},
   "outputs": [],
   "source": [
    "A_CONST=3\n",
    "glob_var = 5\n",
    "glob2_var = 8\n",
    "local_var=2; \n",
    "answer = func1()\n",
    "\n",
    "def func1(): \n",
    "    global top_var # can chage top_var\n",
    "    top_var = 99 #changed at top level\n",
    "    local_var =8 #this is a local change!\n",
    "    return func2()\n",
    "\n",
    "def func2(): \n",
    "    glob2_var = 6 # a local change\n",
    "    return glob2_var + A_CONST\n",
    "\n",
    "print(glob2_var)"
   ]
  },
  {
   "cell_type": "markdown",
   "metadata": {},
   "source": [
    "## Global Variables are dangerous\n",
    "Who changed it?\n",
    "<p> Forgot the global keyword?\n",
    "<br> Debugging is hard\n",
    "<br> Avoid if possible\n",
    "<br> Unless otherwise noted, do not use in this course. \n"
   ]
  },
  {
   "cell_type": "code",
   "execution_count": null,
   "metadata": {},
   "outputs": [],
   "source": [
    "##Scope Example\n",
    "#################################################################################\n",
    "# Function: loc_function uses, but can't change, a higher-level variable\n",
    "# inputs: \n",
    "# in_val: a number\n",
    "# outputs: \n",
    "# tmp: a computed value\n",
    "#################################################################################\n",
    "def loc_function(in_val): # now a function that will use it DANGER!!!\n",
    "    my_int = -5           #we think we are changing it\n",
    "    tmp = in_val + my_int #we'll use the change locally\n",
    "    return tmp\n",
    "my_int=23                                   #create a higher level variable\n",
    "print(\"function output:\", loc_function(3))   #yup, used the local change\n",
    "print(\"my_int:\",my_int)\n"
   ]
  },
  {
   "cell_type": "code",
   "execution_count": null,
   "metadata": {},
   "outputs": [],
   "source": [
    "#################################################################################\n",
    "# Function: global_function: uses, and changes, a global variable\n",
    "# inputs: \n",
    "# val2: a number\n",
    "# outputs: \n",
    "# tmp: a computed value\n",
    "#################################################################################\n",
    "\n",
    "def global_function(val2):\n",
    "    global my_int\n",
    "    my_int = -5\n",
    "    tmp=val2+my_int\n",
    "    return tmp\n",
    "\n",
    "my_int = 23\n",
    "print(\"global output:\", global_function(3))\n",
    "print(\"my_int\", my_int)"
   ]
  },
  {
   "cell_type": "markdown",
   "metadata": {},
   "source": [
    "## Pass by Value vs Pass by Reference\n",
    "<br> Function are called with 0, or more, arguments\n",
    "<br> Arguments are \"passed\" to the function\n",
    "<br> Programming languages support one or two methods\n",
    "<p> Pass by value and Pass by reference\n",
    "<br> Python is strictly pass by value\n",
    "    \n",
    "### What is Pass by value?\n",
    "<br> Pass by value creates a local copy of the argument\n",
    "<br> Unless declared globa, changes are local!\n",
    "<br> Usually bad practice to change \"local\" arguments. Make sure such changes are only used locally!\n",
    "    \n",
    "### What is Pass by Reference?\n",
    "<br> Pass by reference passes the address of the argument\n",
    "<br> Given the address, external changes can be made\n",
    "<br> Python does NOT support pass by reference\n",
    "    "
   ]
  },
  {
   "cell_type": "code",
   "execution_count": null,
   "metadata": {},
   "outputs": [],
   "source": [
    "##Passing a list\n",
    "#################################################################################\n",
    "# Function mod_list modifies a list\n",
    "# inputs: \n",
    "#    in_list: the list recieved\n",
    "# outputs: \n",
    "#    out_list: the list changed\n",
    "\n",
    "#You pass a list to a function, as long as you're adding or removing, \n",
    "#those changes will not be shown with the equal sign \n",
    "#################################################################################\n",
    "def mod_list(in_list): \n",
    "    in_list[0]=9                            #change an entry\n",
    "    in_list.append(6)                       #add an entry\n",
    "    in_list.pop(1)                          #remove an entry\n",
    "    in_list = ['a', 'b', 'c']               #it's local now avoid doing this!\n",
    "    print(\"in function mod_list:\", in_list) #prove it has changed\n",
    "    return in_list                          #return the new thing \n",
    "\n",
    "top_list = [1,2,3,4,5]                      #create a list\n",
    "print(\"original list\", top_list)            #show it\n",
    "got_list = mod_list(top_list)               #call the function\n",
    "print(\"new list:\", top_list)                #the list changed\n",
    "print(\"returned:\", got_list)                #and the return list"
   ]
  },
  {
   "cell_type": "markdown",
   "metadata": {},
   "source": [
    "## Printing Precision and Formatting\n",
    "<br> Accuracy: a measure of right or wrong\n",
    "<br> Precision: how many decimal places\n",
    "\n",
    "<br> If the right answer is 42.0000, Then 41 is pretty accurate by not very recise. \n",
    "<br> And 18.341335 is very precise, but not at all accurate\n",
    "<br> Tolerance: the precision at which accuracy is acceptable"
   ]
  },
  {
   "cell_type": "code",
   "execution_count": 1,
   "metadata": {},
   "outputs": [
    {
     "name": "stdout",
     "output_type": "stream",
     "text": [
      "round to 2 past the decimal: 34.83\n",
      "round to 1 past the decimal: 34.8\n",
      "round to 0 past the decimal: 35.0\n",
      "round to 1 ante the decimal: 30.0\n"
     ]
    }
   ],
   "source": [
    "# examples for controlling output precision# we've seen lots of print statements... how to round a float?\n",
    "my_float = 34.829\n",
    "print(\"round to 2 past the decimal:\",round(my_float,2))    # hundredths!\n",
    "print(\"round to 1 past the decimal:\",round(my_float,1))    # tenths!\n",
    "print(\"round to 0 past the decimal:\",round(my_float,0))    # ones!\n",
    "print(\"round to 1 ante the decimal:\",round(my_float,-1))   # tens!\n",
    "\n"
   ]
  },
  {
   "cell_type": "code",
   "execution_count": 2,
   "metadata": {},
   "outputs": [
    {
     "name": "stdout",
     "output_type": "stream",
     "text": [
      "1\n",
      "round w/ exp:\t2.335e+20\n",
      "2\n",
      "with commas:\t123,456,789.23\n",
      "combined:\t123,456.124\n"
     ]
    }
   ],
   "source": [
    "input()     # pause here# another method\n",
    "val_0 = 2.334567e20                           # number with an exponent\n",
    "print('round w/ exp:\\t{:.3e}'.format(val_0))  # round with exponent\n",
    "input()\n",
    "big_num = 123456789.23                        # too many digits!\n",
    "print(\"with commas:\\t{:,}\".format(big_num))  # just commas\n",
    "val_1 = 123456.12387                          # combine the methods\n",
    "print('combined:\\t{:,.3f}'.format(val_1))     # with commas but float"
   ]
  },
  {
   "cell_type": "code",
   "execution_count": 3,
   "metadata": {},
   "outputs": [
    {
     "name": "stdout",
     "output_type": "stream",
     "text": [
      "1\n",
      "decimal\t 29\n",
      "hex\t 0x1d\n",
      "hex\t 0x1D\n",
      "octal\t 0o35\n",
      "binary\t 0b11101\n"
     ]
    }
   ],
   "source": [
    "\n",
    "input()     \n",
    "# pause here\n",
    "# print in hex - note that we precede the hex number with 0x so people looking\n",
    "# at it realize it is a hex number and not something else! And note that we use '+'\n",
    "# rather than ',' to separate 0x from the value so we do NOT get a space!\n",
    "val_2 = 29                                    # create an integer\n",
    "print(\"decimal\\t\",val_2)                      # print in decimal\n",
    "print(\"hex\\t 0x\"    + '{:x}' .format(val_2) ) # print as a hex - for programmers!\n",
    "print(\"hex\\t 0x\"    + '{:X}' .format(val_2) ) # or in capital letters\n",
    "print(\"octal\\t 0o\"  + '{:o}' .format(val_2) ) # prints octal\n",
    "print(\"binary\\t 0b\" + '{:b}' .format(val_2) ) # prints binary\n",
    "\n"
   ]
  },
  {
   "cell_type": "code",
   "execution_count": 9,
   "metadata": {},
   "outputs": [
    {
     "name": "stdout",
     "output_type": "stream",
     "text": [
      "decimal 31\n",
      "hex\t 0x1f\n",
      "hex\t 0x1F\n",
      "octal\t 0o37\n",
      "binary\t 0b11111\n"
     ]
    }
   ],
   "source": [
    "val_3=31\n",
    "print(\"decimal\", val_3)\n",
    "print(\"hex\\t 0x\" + '{:x}'.format(val_3))\n",
    "print(\"hex\\t 0x\" + '{:X}'.format(val_3))\n",
    "print(\"octal\\t 0o\" + '{:o}'.format(val_3))\n",
    "print(\"binary\\t 0b\" + '{:b}'.format(val_3))\n"
   ]
  },
  {
   "cell_type": "code",
   "execution_count": null,
   "metadata": {},
   "outputs": [],
   "source": []
  }
 ],
 "metadata": {
  "kernelspec": {
   "display_name": "Python 3",
   "language": "python",
   "name": "python3"
  },
  "language_info": {
   "codemirror_mode": {
    "name": "ipython",
    "version": 3
   },
   "file_extension": ".py",
   "mimetype": "text/x-python",
   "name": "python",
   "nbconvert_exporter": "python",
   "pygments_lexer": "ipython3",
   "version": "3.8.5"
  }
 },
 "nbformat": 4,
 "nbformat_minor": 4
}
