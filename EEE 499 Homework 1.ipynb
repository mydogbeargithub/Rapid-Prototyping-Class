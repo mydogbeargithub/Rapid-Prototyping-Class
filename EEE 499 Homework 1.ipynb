{
 "cells": [
  {
   "cell_type": "markdown",
   "metadata": {},
   "source": [
    "## Question One: hw1_canon.py"
   ]
  },
  {
   "cell_type": "code",
   "execution_count": null,
   "metadata": {},
   "outputs": [],
   "source": [
    "import numpy as np\n",
    "\n",
    "\n",
    "      \n",
    "height = int(input(\"enter height: \"))\n",
    "length = int(input(\"enter length: \"))\n",
    "velocity = int(input(\"enter velocity: \"))\n",
    "\n",
    "##take in height, length, \n",
    "def projectiles(height, length, velocity): \n",
    "    g = -9.81\n",
    "    theta = np.arctan(height/length)\n",
    "    vx=velocity*np.cos(theta)\n",
    "    vy=velocity*np.sin(theta)\n",
    "    time=(-vy)/g\n",
    "    dx=vx*2*-vy/g\n",
    "    dy=-(vy**2)/(2*g)\n",
    "    return dx, dy, theta\n",
    "\n",
    "def projectiles_list(height, length, velocity):\n",
    "    g = -9.81\n",
    "    angles=np.arange(1*np.pi/24,12*np.pi/24,np.pi/24)\n",
    "    vx_array=velocity*np.cos(angles)\n",
    "    vy_array=velocity*np.sin(angles)\n",
    "    time_array=(-vy_array)/g\n",
    "    dx_array=vx_array*2*-vy_array/g\n",
    "    dy_array=-(vy_array**2)/(2*g)\n",
    "    ## if we have a value that is greater than length of arena\n",
    "    for index, value in enumerate(dy_array):\n",
    "        if (value > height):\n",
    "            dy_array[index] = -1\n",
    "    ## if we have a value that is greater than ceiling\n",
    "    for index, value in enumerate(dx_array):\n",
    "        if (value > length):\n",
    "            dx_array[index] = -1\n",
    "    return dx_array, dy_array\n",
    "            \n",
    "opt_x, opt_y, opt_theta = projectiles(height, length, velocity)\n",
    "array_x, array_y = projectiles_list(height, length, velocity)\n",
    "\n",
    "\n",
    "if((opt_x > length) | (opt_y > height) ): \n",
    "    print(\"Requirements can't be met. Please reduce initial velocity.\")\n",
    "else: \n",
    "    print(\"optimal settings:\\n\")\n",
    "    print(\"angle: \", np.round(opt_theta,3),\" radians\\n\")\n",
    "    print(\"landing: \", np.round(opt_x,1), \" m\\n\")\n",
    "    print(\"max height\", np.round(opt_y,1), \"m\\n\")\n",
    "    print(\"possible landing spots: \\n\", np.round(array_x, 1))"
   ]
  },
  {
   "cell_type": "markdown",
   "metadata": {},
   "source": [
    "## Question Two: H\n",
    "<br> then continue off the 3->10000 list. \n",
    "<br> first take the number in, square root it. and then check if those numbers can be square root again. If the square root is the same, then append. \n",
    "<br> then continue off the 3->10000 list. \n",
    "\n"
   ]
  },
  {
   "cell_type": "code",
   "execution_count": 3,
   "metadata": {},
   "outputs": [
    {
     "name": "stdout",
     "output_type": "stream",
     "text": [
      "factorlist [2]\n",
      "n is 500\n",
      "k is 2\n",
      "factorlist [2, 2]\n",
      "n is 250\n",
      "k is 2\n",
      "factorlist [2, 2, 2]\n",
      "n is 125\n",
      "k is 2\n",
      "K is added by 1:  3\n",
      "K is added by 1:  4\n",
      "K is added by 1:  5\n",
      "factorlist [2, 2, 2, 5]\n",
      "n is 25\n",
      "k is 5\n",
      "factorlist [2, 2, 2, 5, 5]\n",
      "n is 5\n",
      "k is 5\n",
      "factorlist [2, 2, 2, 5, 5, 5]\n",
      "n is 1\n",
      "k is 5\n",
      "K is added by 1:  6\n",
      "[2, 2, 2, 5, 5, 5]\n"
     ]
    }
   ],
   "source": [
    "def factors(n): \n",
    "    factorlist = []\n",
    "    k=2\n",
    "    while k<=n:\n",
    "        while n%k == 0:\n",
    "            factorlist.append(k)\n",
    "            print(\"factorlist\", factorlist)\n",
    "            n //=k \n",
    "            print(\"n is\", n)\n",
    "            print(\"k is\", k)\n",
    "        k+=1\n",
    "        print(\"K is added by 1: \", k)\n",
    "    return factorlist\n",
    "print(factors(1000))"
   ]
  },
  {
   "cell_type": "code",
   "execution_count": 10,
   "metadata": {},
   "outputs": [
    {
     "ename": "IndexError",
     "evalue": "list index out of range",
     "output_type": "error",
     "traceback": [
      "\u001b[0;31m---------------------------------------------------------------------------\u001b[0m",
      "\u001b[0;31mIndexError\u001b[0m                                Traceback (most recent call last)",
      "\u001b[0;32m<ipython-input-10-7b1879320f1d>\u001b[0m in \u001b[0;36m<module>\u001b[0;34m\u001b[0m\n\u001b[1;32m     13\u001b[0m     \u001b[0;32mreturn\u001b[0m \u001b[0mfactorlist\u001b[0m\u001b[0;34m\u001b[0m\u001b[0;34m\u001b[0m\u001b[0m\n\u001b[1;32m     14\u001b[0m \u001b[0;34m\u001b[0m\u001b[0m\n\u001b[0;32m---> 15\u001b[0;31m \u001b[0mprint\u001b[0m\u001b[0;34m(\u001b[0m\u001b[0mfactors\u001b[0m\u001b[0;34m(\u001b[0m\u001b[0;36m1000\u001b[0m\u001b[0;34m)\u001b[0m\u001b[0;34m)\u001b[0m\u001b[0;34m\u001b[0m\u001b[0;34m\u001b[0m\u001b[0m\n\u001b[0m",
      "\u001b[0;32m<ipython-input-10-7b1879320f1d>\u001b[0m in \u001b[0;36mfactors\u001b[0;34m(n)\u001b[0m\n\u001b[1;32m      9\u001b[0m     \u001b[0;32mfor\u001b[0m \u001b[0mindex\u001b[0m\u001b[0;34m,\u001b[0m \u001b[0mvalue\u001b[0m \u001b[0;32min\u001b[0m \u001b[0menumerate\u001b[0m \u001b[0;34m(\u001b[0m\u001b[0mfactorlist\u001b[0m\u001b[0;34m)\u001b[0m\u001b[0;34m:\u001b[0m\u001b[0;34m\u001b[0m\u001b[0;34m\u001b[0m\u001b[0m\n\u001b[1;32m     10\u001b[0m         \u001b[0;32mif\u001b[0m\u001b[0;34m(\u001b[0m\u001b[0mn\u001b[0m \u001b[0;34m%\u001b[0m \u001b[0mvalue\u001b[0m \u001b[0;34m==\u001b[0m \u001b[0;36m0\u001b[0m\u001b[0;34m)\u001b[0m\u001b[0;34m:\u001b[0m\u001b[0;34m\u001b[0m\u001b[0;34m\u001b[0m\u001b[0m\n\u001b[0;32m---> 11\u001b[0;31m             \u001b[0mx\u001b[0m \u001b[0;34m=\u001b[0m \u001b[0mn\u001b[0m\u001b[0;34m/\u001b[0m\u001b[0mfactorlist\u001b[0m\u001b[0;34m[\u001b[0m\u001b[0mvalue\u001b[0m\u001b[0;34m]\u001b[0m\u001b[0;34m\u001b[0m\u001b[0;34m\u001b[0m\u001b[0m\n\u001b[0m\u001b[1;32m     12\u001b[0m             \u001b[0mprint\u001b[0m\u001b[0;34m(\u001b[0m\u001b[0mfactorlist\u001b[0m\u001b[0;34m[\u001b[0m\u001b[0mvalue\u001b[0m\u001b[0;34m]\u001b[0m\u001b[0;34m)\u001b[0m\u001b[0;34m\u001b[0m\u001b[0;34m\u001b[0m\u001b[0m\n\u001b[1;32m     13\u001b[0m     \u001b[0;32mreturn\u001b[0m \u001b[0mfactorlist\u001b[0m\u001b[0;34m\u001b[0m\u001b[0;34m\u001b[0m\u001b[0m\n",
      "\u001b[0;31mIndexError\u001b[0m: list index out of range"
     ]
    }
   ],
   "source": [
    "#then continue off the 3->10000 list. \n",
    "#take the number in, divide by list until you can't divide, square root it. and then check if those numbers can be square root again. \n",
    "#If the square root is the same, then append. \n",
    "#then continue off the 3->10000 list. \n",
    "import numpy as np\n",
    "\n",
    "def factors(n): \n",
    "    factorlist = [2]\n",
    "    for index, value in enumerate (factorlist): \n",
    "        if(n % value == 0):\n",
    "            x = n/factorlist[value]\n",
    "            print(factorlist[value])\n",
    "    return factorlist\n",
    "\n",
    "print(factors(1000))\n"
   ]
  },
  {
   "cell_type": "code",
   "execution_count": 6,
   "metadata": {},
   "outputs": [
    {
     "ename": "NameError",
     "evalue": "name 'n' is not defined",
     "output_type": "error",
     "traceback": [
      "\u001b[0;31m---------------------------------------------------------------------------\u001b[0m",
      "\u001b[0;31mNameError\u001b[0m                                 Traceback (most recent call last)",
      "\u001b[0;32m<ipython-input-6-45bc9d1e065a>\u001b[0m in \u001b[0;36m<module>\u001b[0;34m\u001b[0m\n\u001b[0;32m----> 1\u001b[0;31m \u001b[0;32mif\u001b[0m\u001b[0;34m(\u001b[0m\u001b[0mnp\u001b[0m\u001b[0;34m.\u001b[0m\u001b[0msqrt\u001b[0m\u001b[0;34m(\u001b[0m\u001b[0mn\u001b[0m\u001b[0;34m)\u001b[0m\u001b[0;34m%\u001b[0m\u001b[0mr\u001b[0m \u001b[0;34m==\u001b[0m \u001b[0;36m0\u001b[0m\u001b[0;34m)\u001b[0m\u001b[0;34m:\u001b[0m\u001b[0;34m\u001b[0m\u001b[0;34m\u001b[0m\u001b[0m\n\u001b[0m\u001b[1;32m      2\u001b[0m             \u001b[0mx\u001b[0m\u001b[0;34m=\u001b[0m\u001b[0msqrt\u001b[0m\u001b[0;34m(\u001b[0m\u001b[0mn\u001b[0m\u001b[0;34m)\u001b[0m\u001b[0;34m\u001b[0m\u001b[0;34m\u001b[0m\u001b[0m\n\u001b[1;32m      3\u001b[0m             \u001b[0mprint\u001b[0m\u001b[0;34m(\u001b[0m\u001b[0mx\u001b[0m\u001b[0;34m)\u001b[0m\u001b[0;34m\u001b[0m\u001b[0;34m\u001b[0m\u001b[0m\n\u001b[1;32m      4\u001b[0m             \u001b[0mn\u001b[0m\u001b[0;34m+=\u001b[0m\u001b[0;36m1\u001b[0m\u001b[0;34m\u001b[0m\u001b[0;34m\u001b[0m\u001b[0m\n\u001b[1;32m      5\u001b[0m             \u001b[0mr\u001b[0m\u001b[0;34m+=\u001b[0m\u001b[0;36m1\u001b[0m\u001b[0;34m\u001b[0m\u001b[0;34m\u001b[0m\u001b[0m\n",
      "\u001b[0;31mNameError\u001b[0m: name 'n' is not defined"
     ]
    }
   ],
   "source": [
    " while np.sqrt(n)%r == 0:\n",
    "        "
   ]
  },
  {
   "cell_type": "code",
   "execution_count": null,
   "metadata": {},
   "outputs": [],
   "source": []
  }
 ],
 "metadata": {
  "kernelspec": {
   "display_name": "Python 3",
   "language": "python",
   "name": "python3"
  },
  "language_info": {
   "codemirror_mode": {
    "name": "ipython",
    "version": 3
   },
   "file_extension": ".py",
   "mimetype": "text/x-python",
   "name": "python",
   "nbconvert_exporter": "python",
   "pygments_lexer": "ipython3",
   "version": "3.8.5"
  }
 },
 "nbformat": 4,
 "nbformat_minor": 4
}
